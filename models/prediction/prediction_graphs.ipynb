{
  "nbformat": 4,
  "nbformat_minor": 0,
  "metadata": {
    "accelerator": "GPU",
    "colab": {
      "name": "Pred par le dataset.ipynb",
      "provenance": [],
      "collapsed_sections": []
    },
    "kernelspec": {
      "display_name": "Python 3",
      "language": "python",
      "name": "python3"
    }
  },
  "cells": [
    {
      "cell_type": "markdown",
      "metadata": {
        "id": "mI44mNQ5lncj"
      },
      "source": [
        "# Predicions on bike's future usage"
      ]
    },
    {
      "cell_type": "markdown",
      "metadata": {
        "id": "x4AUDC8-ljsR"
      },
      "source": [
        "## Preprocessing"
      ]
    },
    {
      "cell_type": "markdown",
      "metadata": {
        "id": "zFpA0DTrknk3"
      },
      "source": [
        "Import libraries"
      ]
    },
    {
      "cell_type": "code",
      "metadata": {
        "id": "Bsf1xrWkNNZg"
      },
      "source": [
        "import numpy as np\n",
        "import matplotlib\n",
        "import matplotlib.pyplot as plt\n",
        "import pandas as pd\n",
        "\n",
        "import tensorflow\n",
        "from tensorflow.keras.layers import GlobalAveragePooling2D, Dense, Conv1D, MaxPool1D, ReLU, LeakyReLU, ELU,\\\n",
        "Input, Flatten, Reshape, Concatenate, Dropout, Reshape, Conv2D, MaxPooling2D, Lambda, BatchNormalization,\\\n",
        "GRU, Bidirectional, TimeDistributed, Softmax\n",
        "\n",
        "from tensorflow.keras.optimizers import Adam\n",
        "from tensorflow.keras.losses import BinaryCrossentropy, CategoricalCrossentropy, MSE\n",
        "from tensorflow.keras.models import Model\n",
        "from tensorflow.keras import regularizers\n",
        "from tensorflow.keras import backend as K\n",
        "from tensorflow.keras.callbacks import EarlyStopping, ModelCheckpoint, ReduceLROnPlateau\n",
        "\n",
        "from sklearn.model_selection import train_test_split\n",
        "\n",
        "from random import randint, uniform, choice\n",
        "from matplotlib.pyplot import figure\n",
        "\n",
        "import xgboost\n",
        "from lightgbm import LGBMRegressor\n",
        "\n",
        "from sklearn.metrics import confusion_matrix"
      ],
      "execution_count": 151,
      "outputs": []
    },
    {
      "cell_type": "code",
      "metadata": {
        "colab": {
          "base_uri": "https://localhost:8080/"
        },
        "id": "FbkF-bI4QMtN",
        "outputId": "53f5ea06-2f6c-4b05-832d-37d04f7c27a4"
      },
      "source": [
        "from google.colab import drive\n",
        "drive.mount('/content/drive')"
      ],
      "execution_count": 77,
      "outputs": [
        {
          "output_type": "stream",
          "text": [
            "Drive already mounted at /content/drive; to attempt to forcibly remount, call drive.mount(\"/content/drive\", force_remount=True).\n"
          ],
          "name": "stdout"
        }
      ]
    },
    {
      "cell_type": "markdown",
      "metadata": {
        "id": "n5u0PG02ktId"
      },
      "source": [
        "Load the dataset"
      ]
    },
    {
      "cell_type": "code",
      "metadata": {
        "colab": {
          "base_uri": "https://localhost:8080/"
        },
        "id": "piNeBPCJQiSy",
        "outputId": "99c8c0bd-74a9-4ea9-b7eb-0a70e83e9393"
      },
      "source": [
        "import os\n",
        "for dirname, _, filenames in os.walk('/content/drive/MyDrive/Hackathon IA/Datasets/Traffic Prediction'):\n",
        "    for filename in filenames:\n",
        "        print(os.path.join(dirname, filename))"
      ],
      "execution_count": 78,
      "outputs": [
        {
          "output_type": "stream",
          "text": [
            "/content/drive/MyDrive/Hackathon IA/Datasets/Traffic Prediction/X_dev.csv\n",
            "/content/drive/MyDrive/Hackathon IA/Datasets/Traffic Prediction/Y_dev.csv\n",
            "/content/drive/MyDrive/Hackathon IA/Datasets/Traffic Prediction/Y_test.csv\n",
            "/content/drive/MyDrive/Hackathon IA/Datasets/Traffic Prediction/Y_train.csv\n",
            "/content/drive/MyDrive/Hackathon IA/Datasets/Traffic Prediction/X_test.csv\n",
            "/content/drive/MyDrive/Hackathon IA/Datasets/Traffic Prediction/X_train.csv\n"
          ],
          "name": "stdout"
        }
      ]
    },
    {
      "cell_type": "code",
      "metadata": {
        "id": "qEdXqA0sNNZp"
      },
      "source": [
        "X_train = pd.read_csv('/content/drive/MyDrive/Hackathon IA/Datasets/Traffic Prediction/X_train.csv',header=None).values\n",
        "X_dev = pd.read_csv('/content/drive/MyDrive/Hackathon IA/Datasets/Traffic Prediction/X_dev.csv',header=None).values\n",
        "X_test = pd.read_csv('/content/drive/MyDrive/Hackathon IA/Datasets/Traffic Prediction/X_test.csv',header=None).values\n",
        "y_train = pd.read_csv('/content/drive/MyDrive/Hackathon IA/Datasets/Traffic Prediction/Y_train.csv',header=None).values\n",
        "y_dev = pd.read_csv('/content/drive/MyDrive/Hackathon IA/Datasets/Traffic Prediction/Y_dev.csv',header=None).values\n",
        "y_test = pd.read_csv('/content/drive/MyDrive/Hackathon IA/Datasets/Traffic Prediction/Y_test.csv',header=None).values"
      ],
      "execution_count": 79,
      "outputs": []
    },
    {
      "cell_type": "code",
      "metadata": {
        "id": "b0A4F4BLNNZp"
      },
      "source": [
        "n_stations = y_train.shape[1]//2"
      ],
      "execution_count": 80,
      "outputs": []
    },
    {
      "cell_type": "code",
      "metadata": {
        "colab": {
          "base_uri": "https://localhost:8080/"
        },
        "id": "S6jA3Hd6NNZq",
        "scrolled": true,
        "outputId": "58a0ce36-6a34-4813-a7f8-cd5078775471"
      },
      "source": [
        "print(X_train.shape, y_train.shape)\n",
        "print(X_dev.shape, y_dev.shape)\n",
        "print(X_test.shape, y_test.shape)"
      ],
      "execution_count": 81,
      "outputs": [
        {
          "output_type": "stream",
          "text": [
            "(234645, 160) (234639, 136)\n",
            "(13492, 160) (13496, 136)\n",
            "(13607, 160) (13599, 136)\n"
          ],
          "name": "stdout"
        }
      ]
    },
    {
      "cell_type": "code",
      "metadata": {
        "id": "D3Nr0mTxNNZq"
      },
      "source": [
        "X_train = X_train[:234639,:]\n",
        "y_dev = y_dev[:13492,:]\n",
        "X_test = X_test[:13599,:]"
      ],
      "execution_count": 82,
      "outputs": []
    },
    {
      "cell_type": "markdown",
      "metadata": {
        "id": "41c4QM1tlwvb"
      },
      "source": [
        "## Prediction one the whole dataset"
      ]
    },
    {
      "cell_type": "markdown",
      "metadata": {
        "id": "MTcRdFYDkxIB"
      },
      "source": [
        "The Naïve prediction : prediction = the number of docks and bikes one hour before"
      ]
    },
    {
      "cell_type": "code",
      "metadata": {
        "colab": {
          "base_uri": "https://localhost:8080/"
        },
        "id": "xP0YcsOrNNZq",
        "outputId": "05429a3b-0ebd-450d-a21f-342ee91449e5"
      },
      "source": [
        "y_pred = X_dev[:,:2*n_stations]\n",
        "mse = ((y_pred - y_dev)**2).mean()\n",
        "mse"
      ],
      "execution_count": null,
      "outputs": [
        {
          "output_type": "execute_result",
          "data": {
            "text/plain": [
              "2.290998151409986"
            ]
          },
          "metadata": {
            "tags": []
          },
          "execution_count": 10
        }
      ]
    },
    {
      "cell_type": "markdown",
      "metadata": {
        "id": "vNaKfgLKlD4A"
      },
      "source": [
        "A simple linear model"
      ]
    },
    {
      "cell_type": "code",
      "metadata": {
        "id": "xmoGgF9fNNZr"
      },
      "source": [
        "x_in = Input((X_train.shape[1]))\n",
        "x = Dense(y_train.shape[1])(x_in)\n",
        "lin_model = Model(inputs=x_in, outputs=x)"
      ],
      "execution_count": null,
      "outputs": []
    },
    {
      "cell_type": "code",
      "metadata": {
        "colab": {
          "base_uri": "https://localhost:8080/"
        },
        "id": "RcHCx_NmNNZr",
        "outputId": "9468f91a-98a2-4abd-9afe-d5e50b1045de"
      },
      "source": [
        "lin_model.compile(loss='mse', optimizer='adam')\n",
        "lin_model.fit(X_train,y_train,validation_data=(X_dev,y_dev),epochs=10)"
      ],
      "execution_count": null,
      "outputs": [
        {
          "output_type": "stream",
          "text": [
            "Epoch 1/10\n",
            "7333/7333 [==============================] - 14s 2ms/step - loss: 16.9253 - val_loss: 2.3181\n",
            "Epoch 2/10\n",
            "7333/7333 [==============================] - 11s 2ms/step - loss: 2.2818 - val_loss: 2.2927\n",
            "Epoch 3/10\n",
            "7333/7333 [==============================] - 11s 2ms/step - loss: 2.2610 - val_loss: 2.3317\n",
            "Epoch 4/10\n",
            "7333/7333 [==============================] - 11s 2ms/step - loss: 2.2524 - val_loss: 2.2279\n",
            "Epoch 5/10\n",
            "7333/7333 [==============================] - 11s 2ms/step - loss: 2.2580 - val_loss: 2.2549\n",
            "Epoch 6/10\n",
            "7333/7333 [==============================] - 11s 2ms/step - loss: 2.2442 - val_loss: 2.3046\n",
            "Epoch 7/10\n",
            "7333/7333 [==============================] - 11s 2ms/step - loss: 2.2490 - val_loss: 2.3652\n",
            "Epoch 8/10\n",
            "7333/7333 [==============================] - 11s 2ms/step - loss: 2.2470 - val_loss: 2.3007\n",
            "Epoch 9/10\n",
            "7333/7333 [==============================] - 11s 2ms/step - loss: 2.2511 - val_loss: 2.3407\n",
            "Epoch 10/10\n",
            "7333/7333 [==============================] - 11s 2ms/step - loss: 2.2522 - val_loss: 2.1956\n"
          ],
          "name": "stdout"
        },
        {
          "output_type": "execute_result",
          "data": {
            "text/plain": [
              "<tensorflow.python.keras.callbacks.History at 0x7fc55057e150>"
            ]
          },
          "metadata": {
            "tags": []
          },
          "execution_count": 12
        }
      ]
    },
    {
      "cell_type": "markdown",
      "metadata": {
        "id": "jMVCzs7LlIUQ"
      },
      "source": [
        "A more complex neural network"
      ]
    },
    {
      "cell_type": "code",
      "metadata": {
        "id": "-Lgsjz7_NNZs"
      },
      "source": [
        "x_in = Input((X_train.shape[1]))\n",
        "x = Dense(512,activation='relu')(x_in)\n",
        "x = Dropout(0.2)(x)\n",
        "#x = Dense(248,activation='tanh')(x)\n",
        "x = Dense(348,activation='relu')(x)\n",
        "x = Dense(y_train.shape[1])(x)\n",
        "model = Model(inputs=x_in, outputs=x)"
      ],
      "execution_count": null,
      "outputs": []
    },
    {
      "cell_type": "code",
      "metadata": {
        "colab": {
          "background_save": true,
          "base_uri": "https://localhost:8080/"
        },
        "id": "gHjGpxK2NNZs",
        "outputId": "deb7c141-1455-450c-ed7a-68d28bbb4c0b"
      },
      "source": [
        "clb = [ReduceLROnPlateau()]\n",
        "model.compile(loss='mse', optimizer=Adam(lr = 0.001))\n",
        "model.fit(X_train,y_train,validation_data=(X_dev,y_dev),epochs=40, shuffle=True, batch_size=32, callbacks=clb)"
      ],
      "execution_count": null,
      "outputs": [
        {
          "output_type": "stream",
          "text": [
            "Epoch 1/40\n",
            "7333/7333 [==============================] - 16s 2ms/step - loss: 7.2785 - val_loss: 2.8100\n",
            "Epoch 2/40\n",
            "7333/7333 [==============================] - 16s 2ms/step - loss: 3.3360 - val_loss: 3.4574\n",
            "Epoch 3/40\n",
            "7333/7333 [==============================] - 16s 2ms/step - loss: 2.9610 - val_loss: 3.1533\n",
            "Epoch 4/40\n",
            "7333/7333 [==============================] - 16s 2ms/step - loss: 2.7796 - val_loss: 3.1871\n",
            "Epoch 5/40\n",
            "7333/7333 [==============================] - 16s 2ms/step - loss: 2.6791 - val_loss: 2.9829\n",
            "Epoch 6/40\n",
            "7333/7333 [==============================] - 16s 2ms/step - loss: 2.6067 - val_loss: 3.1532\n",
            "Epoch 7/40\n",
            "7333/7333 [==============================] - 16s 2ms/step - loss: 2.5610 - val_loss: 3.2576\n",
            "Epoch 8/40\n",
            "7333/7333 [==============================] - 16s 2ms/step - loss: 2.5191 - val_loss: 3.2872\n",
            "Epoch 9/40\n",
            "7333/7333 [==============================] - 16s 2ms/step - loss: 2.4960 - val_loss: 3.1083\n",
            "Epoch 10/40\n",
            "7333/7333 [==============================] - 16s 2ms/step - loss: 2.4793 - val_loss: 3.2065\n",
            "Epoch 11/40\n",
            "7333/7333 [==============================] - 16s 2ms/step - loss: 2.4500 - val_loss: 3.1491\n",
            "Epoch 12/40\n",
            "7333/7333 [==============================] - 16s 2ms/step - loss: 2.1704 - val_loss: 2.9761\n",
            "Epoch 13/40\n",
            "7333/7333 [==============================] - 16s 2ms/step - loss: 2.1173 - val_loss: 2.9427\n",
            "Epoch 14/40\n",
            "7333/7333 [==============================] - 16s 2ms/step - loss: 2.1037 - val_loss: 2.9258\n",
            "Epoch 15/40\n",
            "7333/7333 [==============================] - 16s 2ms/step - loss: 2.0980 - val_loss: 2.9910\n",
            "Epoch 16/40\n",
            "7333/7333 [==============================] - 16s 2ms/step - loss: 2.0904 - val_loss: 2.9934\n",
            "Epoch 17/40\n",
            "7333/7333 [==============================] - 16s 2ms/step - loss: 2.0852 - val_loss: 2.9648\n",
            "Epoch 18/40\n",
            "7333/7333 [==============================] - 16s 2ms/step - loss: 2.0833 - val_loss: 3.0078\n",
            "Epoch 19/40\n",
            "7333/7333 [==============================] - 16s 2ms/step - loss: 2.0827 - val_loss: 3.0062\n",
            "Epoch 20/40\n",
            "7333/7333 [==============================] - 16s 2ms/step - loss: 2.0788 - val_loss: 2.9955\n",
            "Epoch 21/40\n",
            "7333/7333 [==============================] - 16s 2ms/step - loss: 2.0798 - val_loss: 3.0043\n",
            "Epoch 22/40\n",
            "7333/7333 [==============================] - 16s 2ms/step - loss: 2.0530 - val_loss: 2.9858\n",
            "Epoch 23/40\n",
            "7333/7333 [==============================] - 16s 2ms/step - loss: 2.0517 - val_loss: 2.9816\n",
            "Epoch 24/40\n",
            "7333/7333 [==============================] - 16s 2ms/step - loss: 2.0451 - val_loss: 2.9820\n",
            "Epoch 25/40\n",
            "7333/7333 [==============================] - 16s 2ms/step - loss: 2.0525 - val_loss: 2.9919\n",
            "Epoch 26/40\n",
            "7333/7333 [==============================] - 16s 2ms/step - loss: 2.0486 - val_loss: 2.9854\n",
            "Epoch 27/40\n",
            "7333/7333 [==============================] - 16s 2ms/step - loss: 2.0391 - val_loss: 2.9881\n",
            "Epoch 28/40\n",
            "7333/7333 [==============================] - 16s 2ms/step - loss: 2.0432 - val_loss: 2.9876\n",
            "Epoch 29/40\n",
            "7333/7333 [==============================] - 16s 2ms/step - loss: 2.0442 - val_loss: 2.9876\n",
            "Epoch 30/40\n",
            "7333/7333 [==============================] - 16s 2ms/step - loss: 2.0401 - val_loss: 2.9864\n",
            "Epoch 31/40\n",
            "7333/7333 [==============================] - 16s 2ms/step - loss: 2.0485 - val_loss: 2.9848\n",
            "Epoch 32/40\n",
            "7333/7333 [==============================] - 16s 2ms/step - loss: 2.0398 - val_loss: 2.9836\n",
            "Epoch 33/40\n",
            "7333/7333 [==============================] - 16s 2ms/step - loss: 2.0419 - val_loss: 2.9852\n",
            "Epoch 34/40\n",
            "7333/7333 [==============================] - 15s 2ms/step - loss: 2.0433 - val_loss: 2.9857\n",
            "Epoch 35/40\n",
            "7333/7333 [==============================] - 15s 2ms/step - loss: 2.0402 - val_loss: 2.9856\n",
            "Epoch 36/40\n",
            "7333/7333 [==============================] - 16s 2ms/step - loss: 2.0431 - val_loss: 2.9868\n",
            "Epoch 37/40\n",
            "7333/7333 [==============================] - 16s 2ms/step - loss: 2.0370 - val_loss: 2.9842\n",
            "Epoch 38/40\n",
            "7333/7333 [==============================] - 16s 2ms/step - loss: 2.0450 - val_loss: 2.9856\n",
            "Epoch 39/40\n",
            "7333/7333 [==============================] - 16s 2ms/step - loss: 2.0470 - val_loss: 2.9864\n",
            "Epoch 40/40\n",
            "7333/7333 [==============================] - 16s 2ms/step - loss: 2.0413 - val_loss: 2.9826\n"
          ],
          "name": "stdout"
        },
        {
          "output_type": "execute_result",
          "data": {
            "text/plain": [
              "<tensorflow.python.keras.callbacks.History at 0x7f813253dd90>"
            ]
          },
          "metadata": {
            "tags": []
          },
          "execution_count": 0
        }
      ]
    },
    {
      "cell_type": "markdown",
      "metadata": {
        "id": "TYa77gpAlZpi"
      },
      "source": [
        "Using gradient boosting"
      ]
    },
    {
      "cell_type": "code",
      "metadata": {
        "colab": {
          "base_uri": "https://localhost:8080/"
        },
        "id": "RumKHRoUNNZs",
        "outputId": "172b0913-8559-4f1f-b3bb-350b608453d1"
      },
      "source": [
        "#lgbm = LGBMRegressor(random_state=1,reg_lambda=10,reg_alpha=1,n_estimators=128,num_leaves=32)\n",
        "lgbm = LGBMRegressor(random_state=1)\n",
        "#xgb.fit(X_train, y_train)\n",
        "mses = 0\n",
        "mses_train = 0\n",
        "for i in range(y_train.shape[1]):\n",
        "    if i%10==0:print(i)\n",
        "    lgbm.fit(X_train,y_train[:,i])\n",
        "    y_pred0 = lgbm.predict(X_dev)\n",
        "    mse = ((y_pred0 - y_dev[:,i])**2).mean()\n",
        "    mses+=mse\n",
        "    y_pred0 = lgbm.predict(X_train)\n",
        "    mse = ((y_pred0 - y_train[:,i])**2).mean()\n",
        "    mses_train+=mse\n",
        "    print(mses/(i+1))\n",
        "    print(mses_train/(i+1))\n",
        "print(mses/y_train.shape[1])\n",
        "print(mses_train/y_train.shape[1])\n"
      ],
      "execution_count": null,
      "outputs": [
        {
          "output_type": "stream",
          "text": [
            "0\n",
            "2.48130954535017\n",
            "0.9823712972059154\n",
            "2.5301772674143477\n",
            "0.981946697369153\n",
            "1.80747459261857\n",
            "0.7131428762002278\n",
            "1.446852312625926\n",
            "0.5789408328801908\n",
            "1.268676446790774\n",
            "0.5251346230719809\n",
            "1.147057678382193\n",
            "0.49011093364999997\n",
            "1.013873084886794\n",
            "0.4346238648973464\n",
            "0.9141455000899861\n",
            "0.39305124428271676\n",
            "0.8917912047022146\n",
            "0.38897721805771635\n",
            "0.8717382842009119\n",
            "0.38543587062974827\n",
            "10\n",
            "0.832296167047505\n",
            "0.372382301458965\n",
            "0.7988751467188234\n",
            "0.3616774203237763\n",
            "0.7608208714360866\n",
            "0.34784902782848115\n",
            "0.728746693912365\n",
            "0.3361765020761564\n",
            "0.7123617323995316\n",
            "0.326765589820862\n",
            "0.6978895811611938\n",
            "0.31867084581976385\n",
            "0.7069338175229581\n",
            "0.32093040971254333\n",
            "0.7149646647255964\n",
            "0.3225775513340865\n",
            "0.7080382743301011\n",
            "0.32543826260403275\n",
            "0.7035693555961728\n",
            "0.3278685753659365\n",
            "20\n",
            "0.6901279779578036\n",
            "0.3272609564096612\n",
            "0.6776963710584117\n",
            "0.32652084770462586\n",
            "0.6624527537023255\n",
            "0.319070001783483\n",
            "0.6482243282236881\n",
            "0.3122182422243312\n",
            "0.6341777634103667\n",
            "0.3068343166939737\n",
            "0.6208302640980171\n",
            "0.3018234778412649\n",
            "0.6152539346624045\n",
            "0.30170543781506387\n",
            "0.6101369456930633\n",
            "0.3017556166178123\n",
            "0.5942767070556892\n",
            "0.294484610503679\n",
            "0.5791300001948291\n",
            "0.28771739742735364\n",
            "30\n",
            "0.5662544172320814\n",
            "0.281937469672907\n",
            "0.5539169778897578\n",
            "0.27647814944032645\n",
            "0.5379603179785308\n",
            "0.26864029528154726\n",
            "0.5229527549176884\n",
            "0.26125730760948024\n",
            "0.5128030986609059\n",
            "0.2577661294052295\n",
            "0.5032498129806645\n",
            "0.2544653033695867\n",
            "0.4917237263401086\n",
            "0.24930605860404215\n",
            "0.48079107922043063\n",
            "0.24442183461429834\n",
            "0.47247138745227457\n",
            "0.23897605773980024\n",
            "0.46441241190527655\n",
            "0.23380330911169017\n",
            "40\n",
            "0.46427657742013584\n",
            "0.23370593256666158\n",
            "0.464192754443073\n",
            "0.2336391868740924\n",
            "0.4829675004111245\n",
            "0.2415977407377246\n",
            "0.5021517456474661\n",
            "0.2491799731711288\n",
            "0.4970618256865267\n",
            "0.24679189883622926\n",
            "0.49212068409981746\n",
            "0.2445092665444625\n",
            "0.4892083140282937\n",
            "0.24455007011508303\n",
            "0.4866559297628134\n",
            "0.24458016317303033\n",
            "0.48115338002932057\n",
            "0.241484945343008\n",
            "0.47547051858399525\n",
            "0.23850272224509564\n",
            "50\n",
            "0.47348129797097105\n",
            "0.23571691814889523\n",
            "0.47128631969182055\n",
            "0.23306093362736638\n",
            "0.4663416207627983\n",
            "0.2306175184678083\n",
            "0.4616969196562345\n",
            "0.22825056986855743\n",
            "0.4716856816097305\n",
            "0.22873277342625048\n",
            "0.4807496117554377\n",
            "0.2291419071009073\n",
            "0.482645418420071\n",
            "0.22915732529391894\n",
            "0.484170098835494\n",
            "0.22916758739280885\n",
            "0.48142473659607465\n",
            "0.22785386088371828\n",
            "0.4785917265098586\n",
            "0.22658191288987276\n",
            "60\n",
            "0.47853741786969456\n",
            "0.22677881851882098\n",
            "0.4783476539581879\n",
            "0.22697160274810527\n",
            "0.49268100511195806\n",
            "0.23718511893486824\n",
            "0.5063361052022395\n",
            "0.247204884083901\n",
            "0.5358060927803953\n",
            "0.26253697318337726\n",
            "0.5636528377134862\n",
            "0.27736276604932036\n",
            "0.5750385571054872\n",
            "0.28483509525651385\n",
            "0.586248512310679\n",
            "0.292135789488326\n",
            "0.6034483734394391\n",
            "0.30042877540313206\n",
            "0.6207104656782337\n",
            "0.3083318474738631\n",
            "70\n",
            "0.6487529312717343\n",
            "0.32435671901924984\n",
            "0.6775213998112772\n",
            "0.33985173497101945\n",
            "0.6963512512221182\n",
            "0.3515766129241757\n",
            "0.7145473759873681\n",
            "0.36302989323763407\n",
            "0.8078029611774094\n",
            "0.41141048678383924\n",
            "0.8975170854941696\n",
            "0.4580452422746978\n",
            "0.9412829478986073\n",
            "0.47608546684010145\n",
            "0.9851016018578843\n",
            "0.49356323251311746\n",
            "1.0145256471176223\n",
            "0.5073942295191843\n",
            "1.0424735595885815\n",
            "0.5207759548506383\n",
            "80\n",
            "1.0624429800985453\n",
            "0.5327774975954312\n",
            "1.0812457943904779\n",
            "0.5444268581145916\n",
            "1.120094434496382\n",
            "0.5620206597345445\n",
            "1.1556263051625226\n",
            "0.5793699261262282\n",
            "1.1738705951113522\n",
            "0.5876927759230829\n",
            "1.1906882438370514\n",
            "0.5958213030351163\n",
            "1.2099563051040123\n",
            "0.6026847335003487\n",
            "1.228593176968403\n",
            "0.6094983776798372\n",
            "1.2261905897632588\n",
            "0.6078764101742958\n",
            "1.2237412210715344\n",
            "0.606269726344491\n",
            "90\n",
            "1.2265761131801869\n",
            "0.607432225169056\n",
            "1.2296706244881057\n",
            "0.6085454188376037\n",
            "1.269906790456307\n",
            "0.632185996629402\n",
            "1.3092354947256777\n",
            "0.6553684680189421\n",
            "1.3483927367201471\n",
            "0.6782090001952497\n",
            "1.388424782887796\n",
            "0.7004222868893426\n",
            "1.4175936568030114\n",
            "0.7088098734477007\n",
            "1.4464843284290583\n",
            "0.7170566075907038\n",
            "1.4632942506036255\n",
            "0.7227143292894231\n",
            "1.4796099080711071\n",
            "0.7282467858969965\n",
            "100\n",
            "1.508197084825316\n",
            "0.739394508967096\n",
            "1.536402030980095\n",
            "0.7502736267986607\n",
            "1.5580548931177318\n",
            "0.7622833663506261\n",
            "1.5783036940219557\n",
            "0.7741336574970027\n",
            "1.5885344600968416\n",
            "0.7797185498760992\n",
            "1.598150649398787\n",
            "0.7852095285291866\n",
            "1.6284951078775456\n",
            "0.7932035925278793\n",
            "1.6568293237395921\n",
            "0.8010937682991838\n",
            "1.6715316194442753\n",
            "0.8059720635222197\n",
            "1.6849004786913362\n",
            "0.8108435019261301\n",
            "110\n",
            "1.7338279605998097\n",
            "0.832457744774826\n",
            "1.7824245235721088\n",
            "0.8537523142143709\n",
            "1.8412876218892407\n",
            "0.8889386089179848\n",
            "1.8965231972544592\n",
            "0.9238228291357159\n",
            "1.9089552308031779\n",
            "0.9279390269011338\n",
            "1.9200966335125071\n",
            "0.9319657555337678\n",
            "1.9295624740932527\n",
            "0.9355312938899192\n",
            "1.9391187940141408\n",
            "0.9389379456843532\n",
            "1.9495889396043171\n",
            "0.947336108285967\n",
            "1.9600065486822968\n",
            "0.9556024562361908\n",
            "120\n",
            "1.9724617346254751\n",
            "0.9638372804085317\n",
            "1.9857793195611455\n",
            "0.971750186223831\n",
            "1.9834201725452927\n",
            "0.9721321588471575\n",
            "1.981043387736917\n",
            "0.9724286091876814\n",
            "1.993515346877689\n",
            "0.9800769934378323\n",
            "2.0062877939912895\n",
            "0.9873672809332827\n",
            "2.03382232482434\n",
            "0.9997369570658765\n",
            "2.0614911755423067\n",
            "1.0119645310949488\n",
            "2.046440228310843\n",
            "1.0046455869639102\n",
            "2.0316448550154926\n",
            "0.9974403846191496\n",
            "130\n",
            "2.025489267809454\n",
            "0.9926735186012476\n",
            "2.0197672487741514\n",
            "0.9880070970364768\n",
            "2.004943629080352\n",
            "0.9807546773400486\n",
            "1.9903662240213191\n",
            "0.973606620289406\n",
            "1.9768463345019718\n",
            "0.9669414339320223\n",
            "1.963556670422355\n",
            "0.9603524804416712\n",
            "1.963556670422355\n",
            "0.9603524804416712\n"
          ],
          "name": "stdout"
        }
      ]
    },
    {
      "cell_type": "markdown",
      "metadata": {
        "id": "QFcEsYU6kiMB"
      },
      "source": [
        "### Improving the perfomance using only one cluster of bike sharing"
      ]
    },
    {
      "cell_type": "markdown",
      "metadata": {
        "id": "6gago8f8liAg"
      },
      "source": [
        "Restricting the data"
      ]
    },
    {
      "cell_type": "code",
      "metadata": {
        "colab": {
          "base_uri": "https://localhost:8080/"
        },
        "id": "uwzVcgISnP66",
        "outputId": "468d37f3-1ff5-4c89-f397-5da11dd91b0e"
      },
      "source": [
        "n_stations"
      ],
      "execution_count": null,
      "outputs": [
        {
          "output_type": "execute_result",
          "data": {
            "text/plain": [
              "68"
            ]
          },
          "metadata": {
            "tags": []
          },
          "execution_count": 14
        }
      ]
    },
    {
      "cell_type": "code",
      "metadata": {
        "id": "e015r5j4NNZt"
      },
      "source": [
        "san_francisco  = [45,46,47,48,49,50,51,52,53,54,55,56,57,58,59,60,\n",
        " 61,63,31,32,33,34,35,36,37,38,39,40,41,42,43,44,62,65]"
      ],
      "execution_count": 83,
      "outputs": []
    },
    {
      "cell_type": "code",
      "metadata": {
        "id": "pwVgYM1gmAvg"
      },
      "source": [
        "def reduce(X, y):\n",
        "    print(list(range(2*n_stations, X_train.shape[1])))\n",
        "    X_slice = [2*x for x in san_francisco] + [2*x+1 for x in san_francisco] + list(range(2*n_stations, X_train.shape[1]))\n",
        "    print(X_slice)\n",
        "    y_slice = [2*x for x in san_francisco] + [2*x+1 for x in san_francisco]\n",
        "    return X[:, X_slice], y[:, y_slice]"
      ],
      "execution_count": 84,
      "outputs": []
    },
    {
      "cell_type": "code",
      "metadata": {
        "colab": {
          "base_uri": "https://localhost:8080/"
        },
        "id": "DcPrfeQcmwsQ",
        "outputId": "6efad2ed-1af5-40f2-ca55-3a661b09aa44"
      },
      "source": [
        "X_trainr, y_trainr = reduce(X_train,y_train)\n",
        "X_devr, y_devr = reduce(X_dev,y_dev)\n",
        "X_testr, y_testr = reduce(X_test,y_test)"
      ],
      "execution_count": 85,
      "outputs": [
        {
          "output_type": "stream",
          "text": [
            "[136, 137, 138, 139, 140, 141, 142, 143, 144, 145, 146, 147, 148, 149, 150, 151, 152, 153, 154, 155, 156, 157, 158, 159]\n",
            "[90, 92, 94, 96, 98, 100, 102, 104, 106, 108, 110, 112, 114, 116, 118, 120, 122, 126, 62, 64, 66, 68, 70, 72, 74, 76, 78, 80, 82, 84, 86, 88, 124, 130, 91, 93, 95, 97, 99, 101, 103, 105, 107, 109, 111, 113, 115, 117, 119, 121, 123, 127, 63, 65, 67, 69, 71, 73, 75, 77, 79, 81, 83, 85, 87, 89, 125, 131, 136, 137, 138, 139, 140, 141, 142, 143, 144, 145, 146, 147, 148, 149, 150, 151, 152, 153, 154, 155, 156, 157, 158, 159]\n",
            "[136, 137, 138, 139, 140, 141, 142, 143, 144, 145, 146, 147, 148, 149, 150, 151, 152, 153, 154, 155, 156, 157, 158, 159]\n",
            "[90, 92, 94, 96, 98, 100, 102, 104, 106, 108, 110, 112, 114, 116, 118, 120, 122, 126, 62, 64, 66, 68, 70, 72, 74, 76, 78, 80, 82, 84, 86, 88, 124, 130, 91, 93, 95, 97, 99, 101, 103, 105, 107, 109, 111, 113, 115, 117, 119, 121, 123, 127, 63, 65, 67, 69, 71, 73, 75, 77, 79, 81, 83, 85, 87, 89, 125, 131, 136, 137, 138, 139, 140, 141, 142, 143, 144, 145, 146, 147, 148, 149, 150, 151, 152, 153, 154, 155, 156, 157, 158, 159]\n",
            "[136, 137, 138, 139, 140, 141, 142, 143, 144, 145, 146, 147, 148, 149, 150, 151, 152, 153, 154, 155, 156, 157, 158, 159]\n",
            "[90, 92, 94, 96, 98, 100, 102, 104, 106, 108, 110, 112, 114, 116, 118, 120, 122, 126, 62, 64, 66, 68, 70, 72, 74, 76, 78, 80, 82, 84, 86, 88, 124, 130, 91, 93, 95, 97, 99, 101, 103, 105, 107, 109, 111, 113, 115, 117, 119, 121, 123, 127, 63, 65, 67, 69, 71, 73, 75, 77, 79, 81, 83, 85, 87, 89, 125, 131, 136, 137, 138, 139, 140, 141, 142, 143, 144, 145, 146, 147, 148, 149, 150, 151, 152, 153, 154, 155, 156, 157, 158, 159]\n"
          ],
          "name": "stdout"
        }
      ]
    },
    {
      "cell_type": "code",
      "metadata": {
        "colab": {
          "base_uri": "https://localhost:8080/"
        },
        "id": "9t8Sa5Vpm0Oy",
        "outputId": "d8ecad17-a225-47e4-c41a-52c58d075da8"
      },
      "source": [
        "y_trainr.shape, len(san_francisco)"
      ],
      "execution_count": 86,
      "outputs": [
        {
          "output_type": "execute_result",
          "data": {
            "text/plain": [
              "((234639, 68), 34)"
            ]
          },
          "metadata": {
            "tags": []
          },
          "execution_count": 86
        }
      ]
    },
    {
      "cell_type": "code",
      "metadata": {
        "id": "IzFqrM5woICh"
      },
      "source": [
        "n_stationsr = len(san_francisco)"
      ],
      "execution_count": 87,
      "outputs": []
    },
    {
      "cell_type": "markdown",
      "metadata": {
        "id": "4JwGkBDbn4BC"
      },
      "source": [
        "All the simple predictions again"
      ]
    },
    {
      "cell_type": "code",
      "metadata": {
        "colab": {
          "base_uri": "https://localhost:8080/"
        },
        "id": "HEVtf9vooDNn",
        "outputId": "e4128e47-96a9-493b-d9df-6e15c88f8729"
      },
      "source": [
        "y_pred = X_devr[:,:2*n_stationsr]\n",
        "mse = ((y_pred - y_devr)**2).mean()\n",
        "mse"
      ],
      "execution_count": null,
      "outputs": [
        {
          "output_type": "execute_result",
          "data": {
            "text/plain": [
              "4.1089349243996445"
            ]
          },
          "metadata": {
            "tags": []
          },
          "execution_count": 41
        }
      ]
    },
    {
      "cell_type": "markdown",
      "metadata": {
        "id": "GuXq6S2eoDNp"
      },
      "source": [
        "A simple linear model"
      ]
    },
    {
      "cell_type": "code",
      "metadata": {
        "id": "8lXJBqfpoDNp"
      },
      "source": [
        "x_in = Input((X_trainr.shape[1]))\n",
        "x = Dense(y_trainr.shape[1])(x_in)\n",
        "lin_model = Model(inputs=x_in, outputs=x)"
      ],
      "execution_count": null,
      "outputs": []
    },
    {
      "cell_type": "code",
      "metadata": {
        "colab": {
          "base_uri": "https://localhost:8080/"
        },
        "id": "_JY5YdQboDNq",
        "outputId": "22115e96-a06d-4465-c1e6-aa8fc24f1801"
      },
      "source": [
        "lin_model.compile(loss='mse', optimizer='adam')\n",
        "lin_model.fit(X_trainr,y_trainr,validation_data=(X_devr,y_devr),epochs=10)"
      ],
      "execution_count": null,
      "outputs": [
        {
          "output_type": "stream",
          "text": [
            "Epoch 1/10\n",
            "7333/7333 [==============================] - 12s 2ms/step - loss: 50.3298 - val_loss: 4.1002\n",
            "Epoch 2/10\n",
            "7333/7333 [==============================] - 12s 2ms/step - loss: 4.0404 - val_loss: 4.0352\n",
            "Epoch 3/10\n",
            "7333/7333 [==============================] - 12s 2ms/step - loss: 3.9799 - val_loss: 3.9639\n",
            "Epoch 4/10\n",
            "7333/7333 [==============================] - 12s 2ms/step - loss: 3.9725 - val_loss: 3.9595\n",
            "Epoch 5/10\n",
            "7333/7333 [==============================] - 12s 2ms/step - loss: 3.9968 - val_loss: 3.8938\n",
            "Epoch 6/10\n",
            "7333/7333 [==============================] - 12s 2ms/step - loss: 3.9848 - val_loss: 3.9040\n",
            "Epoch 7/10\n",
            "7333/7333 [==============================] - 12s 2ms/step - loss: 3.9838 - val_loss: 3.9467\n",
            "Epoch 8/10\n",
            "7333/7333 [==============================] - 12s 2ms/step - loss: 3.9655 - val_loss: 3.9148\n",
            "Epoch 9/10\n",
            "7333/7333 [==============================] - 12s 2ms/step - loss: 3.9648 - val_loss: 3.9428\n",
            "Epoch 10/10\n",
            "7333/7333 [==============================] - 12s 2ms/step - loss: 3.9833 - val_loss: 3.9454\n"
          ],
          "name": "stdout"
        },
        {
          "output_type": "execute_result",
          "data": {
            "text/plain": [
              "<tensorflow.python.keras.callbacks.History at 0x7fc4ea3a93d0>"
            ]
          },
          "metadata": {
            "tags": []
          },
          "execution_count": 43
        }
      ]
    },
    {
      "cell_type": "markdown",
      "metadata": {
        "id": "EUO9J81QoDNq"
      },
      "source": [
        "A more complex neural network"
      ]
    },
    {
      "cell_type": "code",
      "metadata": {
        "id": "v6LGDI2yoDNq"
      },
      "source": [
        "x_in = Input((X_trainr.shape[1]))\n",
        "x = Dense(248,activation='relu')(x_in)\n",
        "x = Dropout(0.2)(x)\n",
        "#x = Dense(248,activation='tanh')(x)\n",
        "x = Dense(248,activation='relu')(x)\n",
        "x = Dense(y_trainr.shape[1])(x)\n",
        "model = Model(inputs=x_in, outputs=x)"
      ],
      "execution_count": null,
      "outputs": []
    },
    {
      "cell_type": "code",
      "metadata": {
        "colab": {
          "base_uri": "https://localhost:8080/"
        },
        "id": "Fojitwng0_XK",
        "outputId": "61c92ba8-cc87-43c5-ff89-5b5617b3e4c1"
      },
      "source": [
        "model.summary()"
      ],
      "execution_count": null,
      "outputs": [
        {
          "output_type": "stream",
          "text": [
            "Model: \"model_7\"\n",
            "_________________________________________________________________\n",
            "Layer (type)                 Output Shape              Param #   \n",
            "=================================================================\n",
            "input_8 (InputLayer)         [(None, 92)]              0         \n",
            "_________________________________________________________________\n",
            "dense_13 (Dense)             (None, 248)               23064     \n",
            "_________________________________________________________________\n",
            "dropout_3 (Dropout)          (None, 248)               0         \n",
            "_________________________________________________________________\n",
            "dense_14 (Dense)             (None, 248)               61752     \n",
            "_________________________________________________________________\n",
            "dense_15 (Dense)             (None, 68)                16932     \n",
            "=================================================================\n",
            "Total params: 101,748\n",
            "Trainable params: 101,748\n",
            "Non-trainable params: 0\n",
            "_________________________________________________________________\n"
          ],
          "name": "stdout"
        }
      ]
    },
    {
      "cell_type": "code",
      "metadata": {
        "colab": {
          "base_uri": "https://localhost:8080/"
        },
        "id": "llTcEnrNoDNr",
        "outputId": "4597e6b4-85dc-4d48-eb1c-73fa6889552e"
      },
      "source": [
        "clb = [ReduceLROnPlateau()]\n",
        "model.compile(loss='mse', optimizer=Adam(lr = 0.001))\n",
        "model.fit(X_trainr,y_trainr,validation_data=(X_devr,y_devr),epochs=40, shuffle=True, batch_size=32, callbacks=clb)"
      ],
      "execution_count": null,
      "outputs": [
        {
          "output_type": "stream",
          "text": [
            "Epoch 1/40\n",
            "7333/7333 [==============================] - 14s 2ms/step - loss: 11.9135 - val_loss: 6.3863\n",
            "Epoch 2/40\n",
            "7333/7333 [==============================] - 14s 2ms/step - loss: 5.2138 - val_loss: 6.0448\n",
            "Epoch 3/40\n",
            "7333/7333 [==============================] - 14s 2ms/step - loss: 4.7453 - val_loss: 5.9602\n",
            "Epoch 4/40\n",
            "7333/7333 [==============================] - 14s 2ms/step - loss: 4.5128 - val_loss: 6.0616\n",
            "Epoch 5/40\n",
            "7333/7333 [==============================] - 14s 2ms/step - loss: 4.4022 - val_loss: 6.2801\n",
            "Epoch 6/40\n",
            "7333/7333 [==============================] - 14s 2ms/step - loss: 4.3298 - val_loss: 6.2703\n",
            "Epoch 7/40\n",
            "7333/7333 [==============================] - 14s 2ms/step - loss: 4.2862 - val_loss: 6.0434\n",
            "Epoch 8/40\n",
            "7333/7333 [==============================] - 14s 2ms/step - loss: 4.2264 - val_loss: 6.1553\n",
            "Epoch 9/40\n",
            "7333/7333 [==============================] - 14s 2ms/step - loss: 4.2070 - val_loss: 6.2029\n",
            "Epoch 10/40\n",
            "7333/7333 [==============================] - 14s 2ms/step - loss: 4.1646 - val_loss: 6.4137\n",
            "Epoch 11/40\n",
            "7333/7333 [==============================] - 14s 2ms/step - loss: 4.1323 - val_loss: 6.0745\n",
            "Epoch 12/40\n",
            "7333/7333 [==============================] - 14s 2ms/step - loss: 4.1309 - val_loss: 5.9773\n",
            "Epoch 13/40\n",
            "7333/7333 [==============================] - 14s 2ms/step - loss: 4.1062 - val_loss: 5.8903\n",
            "Epoch 14/40\n",
            "7333/7333 [==============================] - 14s 2ms/step - loss: 4.0858 - val_loss: 5.9463\n",
            "Epoch 15/40\n",
            "7333/7333 [==============================] - 14s 2ms/step - loss: 4.0823 - val_loss: 5.7419\n",
            "Epoch 16/40\n",
            "7333/7333 [==============================] - 14s 2ms/step - loss: 4.0666 - val_loss: 5.9531\n",
            "Epoch 17/40\n",
            "7333/7333 [==============================] - 14s 2ms/step - loss: 4.0622 - val_loss: 5.5570\n",
            "Epoch 18/40\n",
            "7333/7333 [==============================] - 14s 2ms/step - loss: 4.0463 - val_loss: 6.0135\n",
            "Epoch 19/40\n",
            "7333/7333 [==============================] - 14s 2ms/step - loss: 4.0343 - val_loss: 5.7304\n",
            "Epoch 20/40\n",
            "7333/7333 [==============================] - 14s 2ms/step - loss: 4.0081 - val_loss: 5.6960\n",
            "Epoch 21/40\n",
            "7333/7333 [==============================] - 14s 2ms/step - loss: 4.0123 - val_loss: 5.3558\n",
            "Epoch 22/40\n",
            "7333/7333 [==============================] - 14s 2ms/step - loss: 4.0036 - val_loss: 5.5766\n",
            "Epoch 23/40\n",
            "7333/7333 [==============================] - 14s 2ms/step - loss: 4.0016 - val_loss: 5.5023\n",
            "Epoch 24/40\n",
            "7333/7333 [==============================] - 14s 2ms/step - loss: 4.0110 - val_loss: 5.4946\n",
            "Epoch 25/40\n",
            "7333/7333 [==============================] - 14s 2ms/step - loss: 3.9946 - val_loss: 5.4827\n",
            "Epoch 26/40\n",
            "7333/7333 [==============================] - 14s 2ms/step - loss: 3.9942 - val_loss: 5.3223\n",
            "Epoch 27/40\n",
            "7333/7333 [==============================] - 14s 2ms/step - loss: 3.9895 - val_loss: 5.6734\n",
            "Epoch 28/40\n",
            "7333/7333 [==============================] - 14s 2ms/step - loss: 3.9866 - val_loss: 5.1379\n",
            "Epoch 29/40\n",
            "7333/7333 [==============================] - 14s 2ms/step - loss: 3.9834 - val_loss: 5.2367\n",
            "Epoch 30/40\n",
            "7333/7333 [==============================] - 14s 2ms/step - loss: 3.9774 - val_loss: 5.1969\n",
            "Epoch 31/40\n",
            "7333/7333 [==============================] - 14s 2ms/step - loss: 3.9539 - val_loss: 5.1351\n",
            "Epoch 32/40\n",
            "7333/7333 [==============================] - 14s 2ms/step - loss: 3.9697 - val_loss: 5.1183\n",
            "Epoch 33/40\n",
            "7333/7333 [==============================] - 14s 2ms/step - loss: 3.9597 - val_loss: 5.0051\n",
            "Epoch 34/40\n",
            "7333/7333 [==============================] - 14s 2ms/step - loss: 3.9566 - val_loss: 4.9907\n",
            "Epoch 35/40\n",
            "7333/7333 [==============================] - 14s 2ms/step - loss: 3.9530 - val_loss: 5.0130\n",
            "Epoch 36/40\n",
            "7333/7333 [==============================] - 14s 2ms/step - loss: 3.9572 - val_loss: 4.8356\n",
            "Epoch 37/40\n",
            "7333/7333 [==============================] - 14s 2ms/step - loss: 3.9497 - val_loss: 4.8853\n",
            "Epoch 38/40\n",
            "7333/7333 [==============================] - 14s 2ms/step - loss: 3.9398 - val_loss: 4.7050\n",
            "Epoch 39/40\n",
            "7333/7333 [==============================] - 14s 2ms/step - loss: 3.9374 - val_loss: 4.5347\n",
            "Epoch 40/40\n",
            "7333/7333 [==============================] - 14s 2ms/step - loss: 3.9301 - val_loss: 4.5982\n"
          ],
          "name": "stdout"
        },
        {
          "output_type": "execute_result",
          "data": {
            "text/plain": [
              "<tensorflow.python.keras.callbacks.History at 0x7fc4e7f12d10>"
            ]
          },
          "metadata": {
            "tags": []
          },
          "execution_count": 51
        }
      ]
    },
    {
      "cell_type": "markdown",
      "metadata": {
        "id": "YLwOU0iFoDNr"
      },
      "source": [
        "Using gradient boosting"
      ]
    },
    {
      "cell_type": "code",
      "metadata": {
        "colab": {
          "base_uri": "https://localhost:8080/"
        },
        "id": "E7v8DKyloDNr",
        "outputId": "af92f2a2-f3ee-4168-fcb5-25477fa8c053"
      },
      "source": [
        "#lgbm = LGBMRegressor(random_state=1,reg_lambda=10,reg_alpha=1,n_estimators=128,num_leaves=32)\n",
        "lgbm = LGBMRegressor(random_state=1)\n",
        "#xgb.fit(X_train, y_train)\n",
        "mses = 0\n",
        "mses_train = 0\n",
        "for i in range(y_trainr.shape[1]):\n",
        "    if i%10==0:print(i)\n",
        "    lgbm.fit(X_trainr,y_trainr[:,i])\n",
        "    y_pred0 = lgbm.predict(X_devr)\n",
        "    mse = ((y_pred0 - y_devr[:,i])**2).mean()\n",
        "    mses+=mse\n",
        "    y_pred0 = lgbm.predict(X_trainr)\n",
        "    mse = ((y_pred0 - y_trainr[:,i])**2).mean()\n",
        "    mses_train+=mse\n",
        "    print(mses/(i+1))\n",
        "    print(mses_train/(i+1))\n",
        "print(' ')\n",
        "print(mses/y_trainr.shape[1])\n",
        "print(mses_train/y_trainr.shape[1])\n"
      ],
      "execution_count": null,
      "outputs": [
        {
          "output_type": "stream",
          "text": [
            "0\n",
            "1.365678800730138\n",
            "0.755893797228874\n",
            "3.257883953684555\n",
            "1.8537763144942279\n",
            "3.807468404373752\n",
            "2.2334613249995385\n",
            "3.919035027796018\n",
            "2.0719349442400783\n",
            "3.7729340552938666\n",
            "1.9352573047562927\n",
            "3.8726829378459975\n",
            "1.9461539738352869\n",
            "3.874398231601678\n",
            "1.96195804921643\n",
            "3.726926688853222\n",
            "1.8970405764637701\n",
            "3.804661440686367\n",
            "1.8827457007713602\n",
            "3.7551335534596575\n",
            "1.8364563077536946\n",
            "10\n",
            "4.086876446143804\n",
            "1.9858236155299196\n",
            "4.472956125130675\n",
            "2.2517352263761103\n",
            "4.379602692872279\n",
            "2.1898691331500952\n",
            "4.287441958943702\n",
            "2.1379519429629856\n",
            "4.212745789091553\n",
            "2.1294835328086004\n",
            "4.162877463574724\n",
            "2.1233133482528617\n",
            "4.022081599183677\n",
            "2.0617360119938564\n",
            "4.113971751209224\n",
            "2.0954364339130893\n",
            "3.964300536449371\n",
            "2.0329421256922977\n",
            "3.8834704127226303\n",
            "1.9978133251329915\n",
            "20\n",
            "3.760626333317949\n",
            "1.9415065748239417\n",
            "3.669217287272474\n",
            "1.8943258831567713\n",
            "3.629520454055797\n",
            "1.8786018961646045\n",
            "3.5648811978001156\n",
            "1.852689793694327\n",
            "3.7359580403900363\n",
            "1.9461852566471947\n",
            "3.7556050007823987\n",
            "1.9471457388105908\n",
            "3.7395261603027996\n",
            "1.9360687260825098\n",
            "3.701177272045171\n",
            "1.9239691832281591\n",
            "3.7200789603516133\n",
            "1.9324593909891268\n",
            "3.6864448415471593\n",
            "1.913036342954317\n",
            "30\n",
            "3.65917530593081\n",
            "1.8912552034972219\n",
            "3.574379725102686\n",
            "1.8473849584524586\n",
            "3.5727600154101444\n",
            "1.8525098893042036\n",
            "3.504943056571718\n",
            "1.8102588952514918\n",
            "3.4440482536936496\n",
            "1.77983608216647\n",
            "3.4900428871590012\n",
            "1.811552155094493\n",
            "3.53654741360237\n",
            "1.8429272787289812\n",
            "3.557265519600129\n",
            "1.8364584806918043\n",
            "3.549038823868301\n",
            "1.8244964947092939\n",
            "3.570672332598175\n",
            "1.829156491990581\n",
            "40\n",
            "3.579770480143912\n",
            "1.8352094394797658\n",
            "3.557287083530325\n",
            "1.8256992169120292\n",
            "3.5772879961436046\n",
            "1.8245115765389797\n",
            "3.572576263973312\n",
            "1.8153191111552758\n",
            "3.6643671774398032\n",
            "1.8525749523075226\n",
            "3.7774691635669173\n",
            "1.9234445891259018\n",
            "3.7662524492254037\n",
            "1.913515361433241\n",
            "3.751869817073285\n",
            "1.9039335631742096\n",
            "3.7389560694707846\n",
            "1.9063861475114603\n",
            "3.7316201968673868\n",
            "1.908468512874468\n",
            "50\n",
            "3.6923453588497654\n",
            "1.8922398479267357\n",
            "3.736275612703797\n",
            "1.9068363400017003\n",
            "3.689696058186983\n",
            "1.888135694218939\n",
            "3.664869629686304\n",
            "1.8776204264816796\n",
            "3.6223894668637695\n",
            "1.8582485382586862\n",
            "3.5891211046363654\n",
            "1.8409323750723625\n",
            "3.5739096769061693\n",
            "1.8352881788816304\n",
            "3.5475441052967542\n",
            "1.8250973359065745\n",
            "3.6211297867287144\n",
            "1.8651328672230032\n",
            "3.6324971615362456\n",
            "1.866767238812507\n",
            "60\n",
            "3.625346387393602\n",
            "1.8635289717656995\n",
            "3.6105350573867643\n",
            "1.8588457013998487\n",
            "3.62294966117362\n",
            "1.8638751603328627\n",
            "3.60743791978561\n",
            "1.8559038313883804\n",
            "3.5972915807579726\n",
            "1.8464357745089754\n",
            "3.5589659532623954\n",
            "1.8257309105609685\n",
            "3.560278325840637\n",
            "1.829085561307802\n",
            "3.5268721292577974\n",
            "1.8083688084020952\n",
            " \n",
            "3.5268721292577974\n",
            "1.8083688084020952\n"
          ],
          "name": "stdout"
        }
      ]
    },
    {
      "cell_type": "markdown",
      "metadata": {
        "id": "puT0eXLizV-C"
      },
      "source": [
        "## Visualisation of the errors"
      ]
    },
    {
      "cell_type": "code",
      "metadata": {
        "colab": {
          "base_uri": "https://localhost:8080/"
        },
        "id": "9HDQpwHPOzoq",
        "outputId": "4c4f9a9e-0d5d-4c72-994b-5308eaac15d3"
      },
      "source": [
        "n_stations"
      ],
      "execution_count": 88,
      "outputs": [
        {
          "output_type": "execute_result",
          "data": {
            "text/plain": [
              "68"
            ]
          },
          "metadata": {
            "tags": []
          },
          "execution_count": 88
        }
      ]
    },
    {
      "cell_type": "code",
      "metadata": {
        "id": "7UzW56vDpy0_"
      },
      "source": [
        "available_slice = [2*x for x in range(n_stations)]\n",
        "deltas = y_dev[:,available_slice] - X_dev[:,available_slice]"
      ],
      "execution_count": 89,
      "outputs": []
    },
    {
      "cell_type": "code",
      "metadata": {
        "colab": {
          "base_uri": "https://localhost:8080/",
          "height": 774
        },
        "id": "Gvm1ALs1zfC9",
        "outputId": "2b3790f2-d961-4dc9-9841-31731dd8c7e1"
      },
      "source": [
        "figure(figsize=(12, 12), dpi=80)\n",
        "deltas = deltas.reshape((-1))\n",
        "plt.hist(deltas, bins=range(-20,20))\n",
        "plt.show()"
      ],
      "execution_count": 90,
      "outputs": [
        {
          "output_type": "display_data",
          "data": {
            "image/png": "[encoded data removed]",
            "text/plain": [
              "<Figure size 960x960 with 1 Axes>"
            ]
          },
          "metadata": {
            "tags": [],
            "needs_background": "light"
          }
        }
      ]
    },
    {
      "cell_type": "code",
      "metadata": {
        "colab": {
          "base_uri": "https://localhost:8080/"
        },
        "id": "Svvqed-O15tR",
        "outputId": "fc682940-1c9a-4597-dc23-4d9571e48ba4"
      },
      "source": [
        "print(min(deltas),max(deltas))"
      ],
      "execution_count": 91,
      "outputs": [
        {
          "output_type": "stream",
          "text": [
            "-18.0 24.0\n"
          ],
          "name": "stdout"
        }
      ]
    },
    {
      "cell_type": "markdown",
      "metadata": {
        "id": "8a1_0ulp2gnB"
      },
      "source": [
        "## Distribution"
      ]
    },
    {
      "cell_type": "code",
      "metadata": {
        "colab": {
          "base_uri": "https://localhost:8080/"
        },
        "id": "9MXdpRv02zIh",
        "outputId": "92760476-a367-4eef-aed1-c62965a9222a"
      },
      "source": [
        "a = np.array([1,2,3,4])\n",
        "print(a.reshape((2,2)))"
      ],
      "execution_count": null,
      "outputs": [
        {
          "output_type": "stream",
          "text": [
            "[[1 2]\n",
            " [3 4]]\n"
          ],
          "name": "stdout"
        }
      ]
    },
    {
      "cell_type": "code",
      "metadata": {
        "id": "f19pc_DD2kzS"
      },
      "source": [
        "def reshape(X,y):\n",
        "    return X[:,:2*n_stationsr].reshape((-1,n_stationsr,2)), y.reshape((-1,n_stationsr,2))"
      ],
      "execution_count": 92,
      "outputs": []
    },
    {
      "cell_type": "code",
      "metadata": {
        "id": "QGhfzzz23AVH"
      },
      "source": [
        "X_traind, y_traind = reshape(X_trainr, y_trainr)\n",
        "X_devd, y_devd = reshape(X_devr, y_devr)"
      ],
      "execution_count": 93,
      "outputs": []
    },
    {
      "cell_type": "code",
      "metadata": {
        "colab": {
          "base_uri": "https://localhost:8080/"
        },
        "id": "GNjKH3Sm3LV2",
        "outputId": "0ef8d1d5-a258-4cae-cb8f-94d01251aeae"
      },
      "source": [
        "x_in = Input((n_stationsr,2))\n",
        "summary = Flatten()(x_in)\n",
        "summary = Dense(64)(summary)\n",
        "l = []\n",
        "for i in range(n_stationsr):\n",
        "    l.append(summary)\n",
        "print(summary.shape)\n",
        "summary = Concatenate(axis=1)(l)\n",
        "print(summary.shape)\n",
        "summary = Reshape((n_stationsr,-1))(summary)\n",
        "print(summary.shape)\n",
        "x = Concatenate(axis=2)([x_in, summary])\n",
        "x = TimeDistributed(Dense(32))(x)\n",
        "x = TimeDistributed(Dense(2))(x)\n",
        "#x = Reshape((n_stationsr,2))(x)\n",
        "d_model = Model(inputs=x_in, outputs=x)"
      ],
      "execution_count": null,
      "outputs": [
        {
          "output_type": "stream",
          "text": [
            "(None, 64)\n",
            "(None, 2176)\n",
            "(None, 34, 64)\n"
          ],
          "name": "stdout"
        }
      ]
    },
    {
      "cell_type": "code",
      "metadata": {
        "colab": {
          "base_uri": "https://localhost:8080/",
          "height": 1000
        },
        "id": "VNCxGTY34P7Q",
        "outputId": "9d506a83-4472-4da8-cafb-bc2cc596883c"
      },
      "source": [
        "d_model.compile(optimizer='adam',loss='mse')\n",
        "d_model.fit(X_traind,y_traind,validation_data=(X_devd,y_devd),epochs=40, shuffle=True, batch_size=32, callbacks=clb)"
      ],
      "execution_count": null,
      "outputs": [
        {
          "output_type": "stream",
          "text": [
            "Epoch 1/40\n",
            "7333/7333 [==============================] - 17s 2ms/step - loss: 7.7715 - val_loss: 3.9090\n",
            "Epoch 2/40\n",
            "7333/7333 [==============================] - 17s 2ms/step - loss: 4.0690 - val_loss: 3.9124\n",
            "Epoch 3/40\n",
            "7333/7333 [==============================] - 17s 2ms/step - loss: 4.0611 - val_loss: 3.9033\n",
            "Epoch 4/40\n",
            "7333/7333 [==============================] - 16s 2ms/step - loss: 4.0583 - val_loss: 3.9018\n",
            "Epoch 5/40\n",
            "7333/7333 [==============================] - 16s 2ms/step - loss: 4.0539 - val_loss: 3.9007\n",
            "Epoch 6/40\n",
            "7333/7333 [==============================] - 16s 2ms/step - loss: 4.0719 - val_loss: 3.9016\n",
            "Epoch 7/40\n",
            "7333/7333 [==============================] - 16s 2ms/step - loss: 4.0756 - val_loss: 3.9033\n",
            "Epoch 8/40\n",
            "7333/7333 [==============================] - 16s 2ms/step - loss: 4.0570 - val_loss: 3.9001\n",
            "Epoch 9/40\n",
            "7333/7333 [==============================] - 16s 2ms/step - loss: 4.0485 - val_loss: 3.9024\n",
            "Epoch 10/40\n",
            "7333/7333 [==============================] - 17s 2ms/step - loss: 4.0510 - val_loss: 3.9050\n",
            "Epoch 11/40\n",
            "7333/7333 [==============================] - 17s 2ms/step - loss: 4.0655 - val_loss: 3.9000\n",
            "Epoch 12/40\n",
            "7333/7333 [==============================] - 17s 2ms/step - loss: 4.0462 - val_loss: 3.9028\n",
            "Epoch 13/40\n",
            "7333/7333 [==============================] - 17s 2ms/step - loss: 4.0503 - val_loss: 3.9025\n",
            "Epoch 14/40\n",
            "7333/7333 [==============================] - 17s 2ms/step - loss: 4.0618 - val_loss: 3.9007\n",
            "Epoch 15/40\n",
            "7333/7333 [==============================] - 17s 2ms/step - loss: 4.0493 - val_loss: 3.9010\n",
            "Epoch 16/40\n",
            "7333/7333 [==============================] - 17s 2ms/step - loss: 4.0635 - val_loss: 3.9038\n",
            "Epoch 17/40\n",
            "7333/7333 [==============================] - 17s 2ms/step - loss: 4.0365 - val_loss: 3.9007\n",
            "Epoch 18/40\n",
            "7333/7333 [==============================] - 17s 2ms/step - loss: 4.0537 - val_loss: 3.9026\n",
            "Epoch 19/40\n",
            "7333/7333 [==============================] - 16s 2ms/step - loss: 4.0480 - val_loss: 3.9009\n",
            "Epoch 20/40\n",
            "7333/7333 [==============================] - 17s 2ms/step - loss: 4.0338 - val_loss: 3.9037\n",
            "Epoch 21/40\n",
            "7333/7333 [==============================] - 17s 2ms/step - loss: 4.0395 - val_loss: 3.9002\n",
            "Epoch 22/40\n",
            "7333/7333 [==============================] - 17s 2ms/step - loss: 4.0489 - val_loss: 3.9016\n",
            "Epoch 23/40\n",
            "7333/7333 [==============================] - 17s 2ms/step - loss: 4.0406 - val_loss: 3.9014\n",
            "Epoch 24/40\n",
            "7333/7333 [==============================] - 16s 2ms/step - loss: 4.0339 - val_loss: 3.9010\n",
            "Epoch 25/40\n",
            "7333/7333 [==============================] - 17s 2ms/step - loss: 4.0620 - val_loss: 3.9008\n",
            "Epoch 26/40\n",
            "5397/7333 [=====================>........] - ETA: 4s - loss: 4.0701"
          ],
          "name": "stdout"
        },
        {
          "output_type": "error",
          "ename": "KeyboardInterrupt",
          "evalue": "ignored",
          "traceback": [
            "\u001b[0;31m---------------------------------------------------------------------------\u001b[0m",
            "\u001b[0;31mKeyboardInterrupt\u001b[0m                         Traceback (most recent call last)",
            "\u001b[0;32m<ipython-input-107-828769724b1c>\u001b[0m in \u001b[0;36m<module>\u001b[0;34m()\u001b[0m\n\u001b[1;32m      1\u001b[0m \u001b[0md_model\u001b[0m\u001b[0;34m.\u001b[0m\u001b[0mcompile\u001b[0m\u001b[0;34m(\u001b[0m\u001b[0moptimizer\u001b[0m\u001b[0;34m=\u001b[0m\u001b[0;34m'adam'\u001b[0m\u001b[0;34m,\u001b[0m\u001b[0mloss\u001b[0m\u001b[0;34m=\u001b[0m\u001b[0;34m'mse'\u001b[0m\u001b[0;34m)\u001b[0m\u001b[0;34m\u001b[0m\u001b[0;34m\u001b[0m\u001b[0m\n\u001b[0;32m----> 2\u001b[0;31m \u001b[0md_model\u001b[0m\u001b[0;34m.\u001b[0m\u001b[0mfit\u001b[0m\u001b[0;34m(\u001b[0m\u001b[0mX_traind\u001b[0m\u001b[0;34m,\u001b[0m\u001b[0my_traind\u001b[0m\u001b[0;34m,\u001b[0m\u001b[0mvalidation_data\u001b[0m\u001b[0;34m=\u001b[0m\u001b[0;34m(\u001b[0m\u001b[0mX_devd\u001b[0m\u001b[0;34m,\u001b[0m\u001b[0my_devd\u001b[0m\u001b[0;34m)\u001b[0m\u001b[0;34m,\u001b[0m\u001b[0mepochs\u001b[0m\u001b[0;34m=\u001b[0m\u001b[0;36m40\u001b[0m\u001b[0;34m,\u001b[0m \u001b[0mshuffle\u001b[0m\u001b[0;34m=\u001b[0m\u001b[0;32mTrue\u001b[0m\u001b[0;34m,\u001b[0m \u001b[0mbatch_size\u001b[0m\u001b[0;34m=\u001b[0m\u001b[0;36m32\u001b[0m\u001b[0;34m,\u001b[0m \u001b[0mcallbacks\u001b[0m\u001b[0;34m=\u001b[0m\u001b[0mclb\u001b[0m\u001b[0;34m)\u001b[0m\u001b[0;34m\u001b[0m\u001b[0;34m\u001b[0m\u001b[0m\n\u001b[0m",
            "\u001b[0;32m/usr/local/lib/python3.7/dist-packages/tensorflow/python/keras/engine/training.py\u001b[0m in \u001b[0;36mfit\u001b[0;34m(self, x, y, batch_size, epochs, verbose, callbacks, validation_split, validation_data, shuffle, class_weight, sample_weight, initial_epoch, steps_per_epoch, validation_steps, validation_batch_size, validation_freq, max_queue_size, workers, use_multiprocessing)\u001b[0m\n\u001b[1;32m   1098\u001b[0m                 _r=1):\n\u001b[1;32m   1099\u001b[0m               \u001b[0mcallbacks\u001b[0m\u001b[0;34m.\u001b[0m\u001b[0mon_train_batch_begin\u001b[0m\u001b[0;34m(\u001b[0m\u001b[0mstep\u001b[0m\u001b[0;34m)\u001b[0m\u001b[0;34m\u001b[0m\u001b[0;34m\u001b[0m\u001b[0m\n\u001b[0;32m-> 1100\u001b[0;31m               \u001b[0mtmp_logs\u001b[0m \u001b[0;34m=\u001b[0m \u001b[0mself\u001b[0m\u001b[0;34m.\u001b[0m\u001b[0mtrain_function\u001b[0m\u001b[0;34m(\u001b[0m\u001b[0miterator\u001b[0m\u001b[0;34m)\u001b[0m\u001b[0;34m\u001b[0m\u001b[0;34m\u001b[0m\u001b[0m\n\u001b[0m\u001b[1;32m   1101\u001b[0m               \u001b[0;32mif\u001b[0m \u001b[0mdata_handler\u001b[0m\u001b[0;34m.\u001b[0m\u001b[0mshould_sync\u001b[0m\u001b[0;34m:\u001b[0m\u001b[0;34m\u001b[0m\u001b[0;34m\u001b[0m\u001b[0m\n\u001b[1;32m   1102\u001b[0m                 \u001b[0mcontext\u001b[0m\u001b[0;34m.\u001b[0m\u001b[0masync_wait\u001b[0m\u001b[0;34m(\u001b[0m\u001b[0;34m)\u001b[0m\u001b[0;34m\u001b[0m\u001b[0;34m\u001b[0m\u001b[0m\n",
            "\u001b[0;32m/usr/local/lib/python3.7/dist-packages/tensorflow/python/eager/def_function.py\u001b[0m in \u001b[0;36m__call__\u001b[0;34m(self, *args, **kwds)\u001b[0m\n\u001b[1;32m    826\u001b[0m     \u001b[0mtracing_count\u001b[0m \u001b[0;34m=\u001b[0m \u001b[0mself\u001b[0m\u001b[0;34m.\u001b[0m\u001b[0mexperimental_get_tracing_count\u001b[0m\u001b[0;34m(\u001b[0m\u001b[0;34m)\u001b[0m\u001b[0;34m\u001b[0m\u001b[0;34m\u001b[0m\u001b[0m\n\u001b[1;32m    827\u001b[0m     \u001b[0;32mwith\u001b[0m \u001b[0mtrace\u001b[0m\u001b[0;34m.\u001b[0m\u001b[0mTrace\u001b[0m\u001b[0;34m(\u001b[0m\u001b[0mself\u001b[0m\u001b[0;34m.\u001b[0m\u001b[0m_name\u001b[0m\u001b[0;34m)\u001b[0m \u001b[0;32mas\u001b[0m \u001b[0mtm\u001b[0m\u001b[0;34m:\u001b[0m\u001b[0;34m\u001b[0m\u001b[0;34m\u001b[0m\u001b[0m\n\u001b[0;32m--> 828\u001b[0;31m       \u001b[0mresult\u001b[0m \u001b[0;34m=\u001b[0m \u001b[0mself\u001b[0m\u001b[0;34m.\u001b[0m\u001b[0m_call\u001b[0m\u001b[0;34m(\u001b[0m\u001b[0;34m*\u001b[0m\u001b[0margs\u001b[0m\u001b[0;34m,\u001b[0m \u001b[0;34m**\u001b[0m\u001b[0mkwds\u001b[0m\u001b[0;34m)\u001b[0m\u001b[0;34m\u001b[0m\u001b[0;34m\u001b[0m\u001b[0m\n\u001b[0m\u001b[1;32m    829\u001b[0m       \u001b[0mcompiler\u001b[0m \u001b[0;34m=\u001b[0m \u001b[0;34m\"xla\"\u001b[0m \u001b[0;32mif\u001b[0m \u001b[0mself\u001b[0m\u001b[0;34m.\u001b[0m\u001b[0m_experimental_compile\u001b[0m \u001b[0;32melse\u001b[0m \u001b[0;34m\"nonXla\"\u001b[0m\u001b[0;34m\u001b[0m\u001b[0;34m\u001b[0m\u001b[0m\n\u001b[1;32m    830\u001b[0m       \u001b[0mnew_tracing_count\u001b[0m \u001b[0;34m=\u001b[0m \u001b[0mself\u001b[0m\u001b[0;34m.\u001b[0m\u001b[0mexperimental_get_tracing_count\u001b[0m\u001b[0;34m(\u001b[0m\u001b[0;34m)\u001b[0m\u001b[0;34m\u001b[0m\u001b[0;34m\u001b[0m\u001b[0m\n",
            "\u001b[0;32m/usr/local/lib/python3.7/dist-packages/tensorflow/python/eager/def_function.py\u001b[0m in \u001b[0;36m_call\u001b[0;34m(self, *args, **kwds)\u001b[0m\n\u001b[1;32m    853\u001b[0m       \u001b[0;31m# In this case we have created variables on the first call, so we run the\u001b[0m\u001b[0;34m\u001b[0m\u001b[0;34m\u001b[0m\u001b[0;34m\u001b[0m\u001b[0m\n\u001b[1;32m    854\u001b[0m       \u001b[0;31m# defunned version which is guaranteed to never create variables.\u001b[0m\u001b[0;34m\u001b[0m\u001b[0;34m\u001b[0m\u001b[0;34m\u001b[0m\u001b[0m\n\u001b[0;32m--> 855\u001b[0;31m       \u001b[0;32mreturn\u001b[0m \u001b[0mself\u001b[0m\u001b[0;34m.\u001b[0m\u001b[0m_stateless_fn\u001b[0m\u001b[0;34m(\u001b[0m\u001b[0;34m*\u001b[0m\u001b[0margs\u001b[0m\u001b[0;34m,\u001b[0m \u001b[0;34m**\u001b[0m\u001b[0mkwds\u001b[0m\u001b[0;34m)\u001b[0m  \u001b[0;31m# pylint: disable=not-callable\u001b[0m\u001b[0;34m\u001b[0m\u001b[0;34m\u001b[0m\u001b[0m\n\u001b[0m\u001b[1;32m    856\u001b[0m     \u001b[0;32melif\u001b[0m \u001b[0mself\u001b[0m\u001b[0;34m.\u001b[0m\u001b[0m_stateful_fn\u001b[0m \u001b[0;32mis\u001b[0m \u001b[0;32mnot\u001b[0m \u001b[0;32mNone\u001b[0m\u001b[0;34m:\u001b[0m\u001b[0;34m\u001b[0m\u001b[0;34m\u001b[0m\u001b[0m\n\u001b[1;32m    857\u001b[0m       \u001b[0;31m# Release the lock early so that multiple threads can perform the call\u001b[0m\u001b[0;34m\u001b[0m\u001b[0;34m\u001b[0m\u001b[0;34m\u001b[0m\u001b[0m\n",
            "\u001b[0;32m/usr/local/lib/python3.7/dist-packages/tensorflow/python/eager/function.py\u001b[0m in \u001b[0;36m__call__\u001b[0;34m(self, *args, **kwargs)\u001b[0m\n\u001b[1;32m   2941\u001b[0m        filtered_flat_args) = self._maybe_define_function(args, kwargs)\n\u001b[1;32m   2942\u001b[0m     return graph_function._call_flat(\n\u001b[0;32m-> 2943\u001b[0;31m         filtered_flat_args, captured_inputs=graph_function.captured_inputs)  # pylint: disable=protected-access\n\u001b[0m\u001b[1;32m   2944\u001b[0m \u001b[0;34m\u001b[0m\u001b[0m\n\u001b[1;32m   2945\u001b[0m   \u001b[0;34m@\u001b[0m\u001b[0mproperty\u001b[0m\u001b[0;34m\u001b[0m\u001b[0;34m\u001b[0m\u001b[0m\n",
            "\u001b[0;32m/usr/local/lib/python3.7/dist-packages/tensorflow/python/eager/function.py\u001b[0m in \u001b[0;36m_call_flat\u001b[0;34m(self, args, captured_inputs, cancellation_manager)\u001b[0m\n\u001b[1;32m   1917\u001b[0m       \u001b[0;31m# No tape is watching; skip to running the function.\u001b[0m\u001b[0;34m\u001b[0m\u001b[0;34m\u001b[0m\u001b[0;34m\u001b[0m\u001b[0m\n\u001b[1;32m   1918\u001b[0m       return self._build_call_outputs(self._inference_function.call(\n\u001b[0;32m-> 1919\u001b[0;31m           ctx, args, cancellation_manager=cancellation_manager))\n\u001b[0m\u001b[1;32m   1920\u001b[0m     forward_backward = self._select_forward_and_backward_functions(\n\u001b[1;32m   1921\u001b[0m         \u001b[0margs\u001b[0m\u001b[0;34m,\u001b[0m\u001b[0;34m\u001b[0m\u001b[0;34m\u001b[0m\u001b[0m\n",
            "\u001b[0;32m/usr/local/lib/python3.7/dist-packages/tensorflow/python/eager/function.py\u001b[0m in \u001b[0;36mcall\u001b[0;34m(self, ctx, args, cancellation_manager)\u001b[0m\n\u001b[1;32m    558\u001b[0m               \u001b[0minputs\u001b[0m\u001b[0;34m=\u001b[0m\u001b[0margs\u001b[0m\u001b[0;34m,\u001b[0m\u001b[0;34m\u001b[0m\u001b[0;34m\u001b[0m\u001b[0m\n\u001b[1;32m    559\u001b[0m               \u001b[0mattrs\u001b[0m\u001b[0;34m=\u001b[0m\u001b[0mattrs\u001b[0m\u001b[0;34m,\u001b[0m\u001b[0;34m\u001b[0m\u001b[0;34m\u001b[0m\u001b[0m\n\u001b[0;32m--> 560\u001b[0;31m               ctx=ctx)\n\u001b[0m\u001b[1;32m    561\u001b[0m         \u001b[0;32melse\u001b[0m\u001b[0;34m:\u001b[0m\u001b[0;34m\u001b[0m\u001b[0;34m\u001b[0m\u001b[0m\n\u001b[1;32m    562\u001b[0m           outputs = execute.execute_with_cancellation(\n",
            "\u001b[0;32m/usr/local/lib/python3.7/dist-packages/tensorflow/python/eager/execute.py\u001b[0m in \u001b[0;36mquick_execute\u001b[0;34m(op_name, num_outputs, inputs, attrs, ctx, name)\u001b[0m\n\u001b[1;32m     58\u001b[0m     \u001b[0mctx\u001b[0m\u001b[0;34m.\u001b[0m\u001b[0mensure_initialized\u001b[0m\u001b[0;34m(\u001b[0m\u001b[0;34m)\u001b[0m\u001b[0;34m\u001b[0m\u001b[0;34m\u001b[0m\u001b[0m\n\u001b[1;32m     59\u001b[0m     tensors = pywrap_tfe.TFE_Py_Execute(ctx._handle, device_name, op_name,\n\u001b[0;32m---> 60\u001b[0;31m                                         inputs, attrs, num_outputs)\n\u001b[0m\u001b[1;32m     61\u001b[0m   \u001b[0;32mexcept\u001b[0m \u001b[0mcore\u001b[0m\u001b[0;34m.\u001b[0m\u001b[0m_NotOkStatusException\u001b[0m \u001b[0;32mas\u001b[0m \u001b[0me\u001b[0m\u001b[0;34m:\u001b[0m\u001b[0;34m\u001b[0m\u001b[0;34m\u001b[0m\u001b[0m\n\u001b[1;32m     62\u001b[0m     \u001b[0;32mif\u001b[0m \u001b[0mname\u001b[0m \u001b[0;32mis\u001b[0m \u001b[0;32mnot\u001b[0m \u001b[0;32mNone\u001b[0m\u001b[0;34m:\u001b[0m\u001b[0;34m\u001b[0m\u001b[0;34m\u001b[0m\u001b[0m\n",
            "\u001b[0;31mKeyboardInterrupt\u001b[0m: "
          ]
        }
      ]
    },
    {
      "cell_type": "code",
      "metadata": {
        "id": "STSMUghG_0rN"
      },
      "source": [
        "y_trainc = y_traind - X_traind\n",
        "y_devc = y_devd - X_devd"
      ],
      "execution_count": 124,
      "outputs": []
    },
    {
      "cell_type": "code",
      "metadata": {
        "id": "r46Cg4O46dAO"
      },
      "source": [
        "x_in = Input((n_stationsr,2))\n",
        "x = Bidirectional(GRU(32, return_sequences=True))(x_in)\n",
        "x = Bidirectional(GRU(32, return_sequences=True))(x)\n",
        "x = TimeDistributed(Dense(32,activation='relu'))(x)\n",
        "x = TimeDistributed(Dense(2))(x)\n",
        "\n",
        "gru_model = Model(inputs=x_in, outputs=x)"
      ],
      "execution_count": 130,
      "outputs": []
    },
    {
      "cell_type": "code",
      "metadata": {
        "colab": {
          "base_uri": "https://localhost:8080/"
        },
        "id": "3fAvy8SW9RMf",
        "outputId": "f1ec8ddb-5d12-406b-af5a-0625edcb0420"
      },
      "source": [
        "gru_model.compile(optimizer='adam',loss='mse')\n",
        "gru_model.fit(X_traind,y_trainc,validation_data=(X_devd,y_devc),epochs=100, shuffle=True, batch_size=1024)"
      ],
      "execution_count": null,
      "outputs": [
        {
          "output_type": "stream",
          "text": [
            "Epoch 1/100\n",
            "230/230 [==============================] - 9s 20ms/step - loss: 3.3353 - val_loss: 3.8228\n",
            "Epoch 2/100\n",
            "230/230 [==============================] - 4s 16ms/step - loss: 2.9536 - val_loss: 3.8786\n",
            "Epoch 3/100\n",
            "230/230 [==============================] - 4s 15ms/step - loss: 2.9540 - val_loss: 3.7417\n",
            "Epoch 4/100\n",
            "230/230 [==============================] - 4s 15ms/step - loss: 2.9629 - val_loss: 3.9385\n",
            "Epoch 5/100\n",
            "230/230 [==============================] - 4s 15ms/step - loss: 2.9365 - val_loss: 3.8003\n",
            "Epoch 6/100\n",
            "230/230 [==============================] - 4s 16ms/step - loss: 2.9270 - val_loss: 3.8407\n",
            "Epoch 7/100\n",
            "230/230 [==============================] - 4s 16ms/step - loss: 2.9361 - val_loss: 3.8449\n",
            "Epoch 8/100\n",
            "230/230 [==============================] - 4s 16ms/step - loss: 2.9248 - val_loss: 3.8104\n",
            "Epoch 9/100\n",
            "230/230 [==============================] - 4s 16ms/step - loss: 2.9280 - val_loss: 3.8730\n",
            "Epoch 10/100\n",
            "230/230 [==============================] - 4s 16ms/step - loss: 2.9085 - val_loss: 3.7495\n",
            "Epoch 11/100\n",
            "230/230 [==============================] - 4s 16ms/step - loss: 2.9285 - val_loss: 3.8767\n",
            "Epoch 12/100\n",
            "230/230 [==============================] - 4s 16ms/step - loss: 2.9088 - val_loss: 3.8446\n",
            "Epoch 13/100\n",
            "230/230 [==============================] - 4s 16ms/step - loss: 2.9075 - val_loss: 3.8551\n",
            "Epoch 14/100\n",
            "230/230 [==============================] - 4s 16ms/step - loss: 2.8892 - val_loss: 3.8653\n",
            "Epoch 15/100\n",
            "230/230 [==============================] - 4s 16ms/step - loss: 2.8853 - val_loss: 3.8675\n",
            "Epoch 16/100\n",
            "230/230 [==============================] - 4s 15ms/step - loss: 2.8975 - val_loss: 3.8505\n",
            "Epoch 17/100\n",
            "230/230 [==============================] - 4s 16ms/step - loss: 2.8973 - val_loss: 3.9213\n",
            "Epoch 18/100\n",
            "230/230 [==============================] - 4s 15ms/step - loss: 2.8824 - val_loss: 3.8922\n",
            "Epoch 19/100\n",
            "230/230 [==============================] - 4s 15ms/step - loss: 2.8862 - val_loss: 3.8193\n",
            "Epoch 20/100\n",
            "230/230 [==============================] - 4s 16ms/step - loss: 2.8756 - val_loss: 3.8748\n",
            "Epoch 21/100\n",
            " 57/230 [======>.......................] - ETA: 2s - loss: 2.8791"
          ],
          "name": "stdout"
        }
      ]
    },
    {
      "cell_type": "markdown",
      "metadata": {
        "id": "MLQuoSNPBDC8"
      },
      "source": [
        "## Round and evaluate"
      ]
    },
    {
      "cell_type": "code",
      "metadata": {
        "id": "J3ehyTU99a8c"
      },
      "source": [
        "def round_and_evaluate(model, X, y):\n",
        "    vround = np.vectorize(round)\n",
        "    ypred = vround(model.predict(X))\n",
        "    return ((ypred - y)**2).mean()"
      ],
      "execution_count": null,
      "outputs": []
    },
    {
      "cell_type": "code",
      "metadata": {
        "colab": {
          "base_uri": "https://localhost:8080/"
        },
        "id": "VJkJfq1tBYqx",
        "outputId": "267964f0-adf1-4ed9-fe86-bf42675b2839"
      },
      "source": [
        "round_and_evaluate(lin_model, X_devr, y_devr)"
      ],
      "execution_count": null,
      "outputs": [
        {
          "output_type": "execute_result",
          "data": {
            "text/plain": [
              "4.034182565703423"
            ]
          },
          "metadata": {
            "tags": []
          },
          "execution_count": 119
        }
      ]
    },
    {
      "cell_type": "code",
      "metadata": {
        "colab": {
          "base_uri": "https://localhost:8080/"
        },
        "id": "9_u5Z-0pBbxz",
        "outputId": "7ce12281-a8e6-4fbd-e5c2-7557a9eb8f45"
      },
      "source": [
        "round_and_evaluate(model, X_devr, y_devr)"
      ],
      "execution_count": null,
      "outputs": [
        {
          "output_type": "execute_result",
          "data": {
            "text/plain": [
              "4.598325151287909"
            ]
          },
          "metadata": {
            "tags": []
          },
          "execution_count": 120
        }
      ]
    },
    {
      "cell_type": "code",
      "metadata": {
        "colab": {
          "base_uri": "https://localhost:8080/"
        },
        "id": "_g5aox6uBrQH",
        "outputId": "a2dbad48-7e11-4b47-fdbc-a3ee8a61e4ee"
      },
      "source": [
        "round_and_evaluate(d_model, X_devd, y_devd)"
      ],
      "execution_count": null,
      "outputs": [
        {
          "output_type": "execute_result",
          "data": {
            "text/plain": [
              "3.971181179260913"
            ]
          },
          "metadata": {
            "tags": []
          },
          "execution_count": 123
        }
      ]
    },
    {
      "cell_type": "code",
      "metadata": {
        "colab": {
          "base_uri": "https://localhost:8080/"
        },
        "id": "DP3irvrpBuRj",
        "outputId": "3432a46b-18fa-43eb-877b-02da58f4a28b"
      },
      "source": [
        "round_and_evaluate(gru_model, X_devd, y_devd)"
      ],
      "execution_count": null,
      "outputs": [
        {
          "output_type": "execute_result",
          "data": {
            "text/plain": [
              "3.65851114385867"
            ]
          },
          "metadata": {
            "tags": []
          },
          "execution_count": 131
        }
      ]
    },
    {
      "cell_type": "markdown",
      "metadata": {
        "id": "F1djuOyPEcS8"
      },
      "source": [
        "Old"
      ]
    },
    {
      "cell_type": "code",
      "metadata": {
        "id": "YKItU7ukBwm4"
      },
      "source": [
        "available_slicer = [2*x for x in range(n_stationsr)]\n",
        "true_deltas = y_devr[:,available_slicer] - X_devr[:,available_slicer]\n",
        "vround = np.vectorize(round)\n",
        "ypred = vround(gru_model.predict(X_devd))\n",
        "pred_deltas = ypred[:,:,0] - X_devr[:,available_slicer]"
      ],
      "execution_count": null,
      "outputs": []
    },
    {
      "cell_type": "code",
      "metadata": {
        "colab": {
          "base_uri": "https://localhost:8080/",
          "height": 267
        },
        "id": "sCPPE0MNCVnb",
        "outputId": "1eac8eb4-c72e-4fad-8be0-a55051946967"
      },
      "source": [
        "cm = confusion_matrix(true_deltas.reshape((-1)), pred_deltas.reshape((-1)))\n",
        "plt.imshow(cm, norm=matplotlib.colors.LogNorm())\n",
        "plt.show()"
      ],
      "execution_count": null,
      "outputs": [
        {
          "output_type": "display_data",
          "data": {
            "image/png": "[encoded data removed]",
            "text/plain": [
              "<Figure size 432x288 with 1 Axes>"
            ]
          },
          "metadata": {
            "tags": [],
            "needs_background": "light"
          }
        }
      ]
    },
    {
      "cell_type": "markdown",
      "metadata": {
        "id": "oULBFgJ7Ed9a"
      },
      "source": [
        "New"
      ]
    },
    {
      "cell_type": "code",
      "metadata": {
        "id": "GLfL7_zOQdPH"
      },
      "source": [
        "available_slicer = [2*x for x in range(n_stationsr)]\n",
        "vround = np.vectorize(round)\n",
        "ypred = vround(gru_model.predict(X_devd))\n",
        "pred_deltas = ypred[:,:,0]\n",
        "true_deltas = y_devc[:,:,0]"
      ],
      "execution_count": 148,
      "outputs": []
    },
    {
      "cell_type": "code",
      "metadata": {
        "id": "e_EQYIv0DBFC"
      },
      "source": [
        "extent=(np.min(true_deltas),np.max(true_deltas),np.min(pred_deltas),np.max(true_deltas))"
      ],
      "execution_count": 152,
      "outputs": []
    },
    {
      "cell_type": "code",
      "metadata": {
        "colab": {
          "base_uri": "https://localhost:8080/",
          "height": 444
        },
        "id": "_GYzqi4ZChMJ",
        "outputId": "56eba741-88dc-42e7-ebb5-94d5462c236d"
      },
      "source": [
        "cm = confusion_matrix(true_deltas.reshape((-1)), pred_deltas.reshape((-1)))\n",
        "figure(figsize=(8, 6), dpi=80)\n",
        "plt.imshow(cm, origin='lower', norm=matplotlib.colors.LogNorm(), extent=extent)\n",
        "plt.title('Prediction vs Reality\\n(change in the number of available bikes)')\n",
        "plt.xlabel('Prediction')\n",
        "plt.ylabel('Reality')\n",
        "plt.colorbar()\n",
        "plt.show()"
      ],
      "execution_count": 155,
      "outputs": [
        {
          "output_type": "display_data",
          "data": {
            "image/png": "[encoded data removed]",
            "text/plain": [
              "<Figure size 640x480 with 2 Axes>"
            ]
          },
          "metadata": {
            "tags": [],
            "needs_background": "light"
          }
        }
      ]
    }
  ]
}